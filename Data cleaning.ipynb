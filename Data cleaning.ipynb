{
 "cells": [
  {
   "cell_type": "code",
   "execution_count": 1,
   "id": "c84b9ed6",
   "metadata": {},
   "outputs": [],
   "source": [
    "import pandas as pd\n",
    "import numpy as np\n",
    "import matplotlib.pyplot as plt"
   ]
  },
  {
   "cell_type": "markdown",
   "id": "99f7b0eb",
   "metadata": {},
   "source": [
    "# Import the dataset"
   ]
  },
  {
   "cell_type": "markdown",
   "id": "a1c18cba",
   "metadata": {},
   "source": [
    "## Import the main dataset"
   ]
  },
  {
   "cell_type": "code",
   "execution_count": 2,
   "id": "6076270b",
   "metadata": {},
   "outputs": [],
   "source": [
    "hotel = pd.read_csv(\"Hotel_Reviews.csv\")"
   ]
  },
  {
   "cell_type": "code",
   "execution_count": 3,
   "id": "548dc691",
   "metadata": {},
   "outputs": [
    {
     "data": {
      "text/plain": [
       "515738"
      ]
     },
     "execution_count": 3,
     "metadata": {},
     "output_type": "execute_result"
    }
   ],
   "source": [
    "len(hotel)"
   ]
  },
  {
   "cell_type": "code",
   "execution_count": 4,
   "id": "022f38b6",
   "metadata": {},
   "outputs": [
    {
     "data": {
      "text/plain": [
       "1492"
      ]
     },
     "execution_count": 4,
     "metadata": {},
     "output_type": "execute_result"
    }
   ],
   "source": [
    "len(hotel[\"Hotel_Name\"].unique())"
   ]
  },
  {
   "cell_type": "code",
   "execution_count": 5,
   "id": "071b21ea",
   "metadata": {},
   "outputs": [
    {
     "data": {
      "text/plain": [
       "1493"
      ]
     },
     "execution_count": 5,
     "metadata": {},
     "output_type": "execute_result"
    }
   ],
   "source": [
    "len(hotel[\"Hotel_Address\"].unique())"
   ]
  },
  {
   "cell_type": "code",
   "execution_count": 6,
   "id": "5ec1063a",
   "metadata": {},
   "outputs": [
    {
     "data": {
      "text/plain": [
       " United Kingdom               245246\n",
       " United States of America      35437\n",
       " Australia                     21686\n",
       " Ireland                       14827\n",
       " United Arab Emirates          10235\n",
       "                               ...  \n",
       " Cape Verde                        1\n",
       " Northern Mariana Islands          1\n",
       " Tuvalu                            1\n",
       " Guinea                            1\n",
       " Palau                             1\n",
       "Name: Reviewer_Nationality, Length: 227, dtype: int64"
      ]
     },
     "execution_count": 6,
     "metadata": {},
     "output_type": "execute_result"
    }
   ],
   "source": [
    "hotel[\"Reviewer_Nationality\"].value_counts()"
   ]
  },
  {
   "cell_type": "code",
   "execution_count": 7,
   "id": "a1080561",
   "metadata": {},
   "outputs": [
    {
     "data": {
      "text/plain": [
       "1493"
      ]
     },
     "execution_count": 7,
     "metadata": {},
     "output_type": "execute_result"
    }
   ],
   "source": [
    "len(hotel[\"Hotel_Address\"].value_counts())"
   ]
  },
  {
   "cell_type": "code",
   "execution_count": 8,
   "id": "9735b3d4",
   "metadata": {},
   "outputs": [
    {
     "data": {
      "text/plain": [
       "227"
      ]
     },
     "execution_count": 8,
     "metadata": {},
     "output_type": "execute_result"
    }
   ],
   "source": [
    "len(hotel[\"Reviewer_Nationality\"].unique())"
   ]
  },
  {
   "cell_type": "code",
   "execution_count": 9,
   "id": "72acff53",
   "metadata": {},
   "outputs": [
    {
     "data": {
      "text/plain": [
       "1492"
      ]
     },
     "execution_count": 9,
     "metadata": {},
     "output_type": "execute_result"
    }
   ],
   "source": [
    "len(hotel[\"Hotel_Name\"].unique())"
   ]
  },
  {
   "cell_type": "markdown",
   "id": "be11af91",
   "metadata": {},
   "source": [
    "### Trim the space of Review_Nationality Column for further merging"
   ]
  },
  {
   "cell_type": "code",
   "execution_count": 10,
   "id": "b37cc012",
   "metadata": {},
   "outputs": [],
   "source": [
    "hotel[\"Hotel_Address\"] = hotel[\"Hotel_Address\"].apply(lambda x: x.strip())\n",
    "hotel[\"Hotel_Name\"] = hotel[\"Hotel_Name\"].apply(lambda x: x.strip())\n",
    "hotel[\"Negative_Review\"] = hotel[\"Negative_Review\"].apply(lambda x: x.strip())\n",
    "hotel[\"Reviewer_Nationality\"] = hotel[\"Reviewer_Nationality\"].apply(lambda x: x.strip())\n",
    "hotel[\"Positive_Review\"] = hotel[\"Positive_Review\"].apply(lambda x: x.strip())"
   ]
  },
  {
   "cell_type": "markdown",
   "id": "78888ca2",
   "metadata": {},
   "source": [
    "### Drop the rows of data whose Nationality column is empty"
   ]
  },
  {
   "cell_type": "code",
   "execution_count": 11,
   "id": "fe4f1d56",
   "metadata": {},
   "outputs": [
    {
     "data": {
      "text/plain": [
       "59"
      ]
     },
     "execution_count": 11,
     "metadata": {},
     "output_type": "execute_result"
    }
   ],
   "source": [
    "len(hotel[(hotel[\"Positive_Review\"] == '') & (hotel[\"Negative_Review\"] == '')])"
   ]
  },
  {
   "cell_type": "code",
   "execution_count": 12,
   "id": "70bd32ab",
   "metadata": {},
   "outputs": [
    {
     "data": {
      "text/plain": [
       "183"
      ]
     },
     "execution_count": 12,
     "metadata": {},
     "output_type": "execute_result"
    }
   ],
   "source": [
    "len(hotel[hotel[\"Positive_Review\"] == ''])"
   ]
  },
  {
   "cell_type": "code",
   "execution_count": 13,
   "id": "c75ac20c",
   "metadata": {},
   "outputs": [
    {
     "data": {
      "text/plain": [
       "849"
      ]
     },
     "execution_count": 13,
     "metadata": {},
     "output_type": "execute_result"
    }
   ],
   "source": [
    "len(hotel[hotel[\"Negative_Review\"] == ''])"
   ]
  },
  {
   "cell_type": "code",
   "execution_count": 14,
   "id": "6c710d66",
   "metadata": {},
   "outputs": [
    {
     "data": {
      "text/plain": [
       "523"
      ]
     },
     "execution_count": 14,
     "metadata": {},
     "output_type": "execute_result"
    }
   ],
   "source": [
    "len(hotel[(hotel[\"Reviewer_Nationality\"] == '')])"
   ]
  },
  {
   "cell_type": "code",
   "execution_count": 17,
   "id": "6067554b",
   "metadata": {},
   "outputs": [],
   "source": [
    "hotel.drop(hotel[hotel[\"Reviewer_Nationality\"] == ''].index, axis=0, inplace=True)"
   ]
  },
  {
   "cell_type": "code",
   "execution_count": 18,
   "id": "69a4993a",
   "metadata": {},
   "outputs": [],
   "source": [
    "hotel.drop(hotel[(hotel[\"Positive_Review\"] == '') & (hotel[\"Negative_Review\"] == '')].index, axis=0, inplace=True)"
   ]
  },
  {
   "cell_type": "code",
   "execution_count": 19,
   "id": "017f9ca6",
   "metadata": {},
   "outputs": [
    {
     "data": {
      "text/plain": [
       "515156"
      ]
     },
     "execution_count": 19,
     "metadata": {},
     "output_type": "execute_result"
    }
   ],
   "source": [
    "len(hotel)"
   ]
  },
  {
   "cell_type": "code",
   "execution_count": 15,
   "id": "0f0e2c15",
   "metadata": {},
   "outputs": [
    {
     "data": {
      "text/plain": [
       "127890"
      ]
     },
     "execution_count": 15,
     "metadata": {},
     "output_type": "execute_result"
    }
   ],
   "source": [
    "len(hotel[hotel[\"Negative_Review\"] == \"No Negative\"])"
   ]
  },
  {
   "cell_type": "code",
   "execution_count": 20,
   "id": "06f78eee",
   "metadata": {},
   "outputs": [],
   "source": [
    "hotel.loc[hotel['Negative_Review'] == 'No Negative', 'Negative_Review'] = None"
   ]
  },
  {
   "cell_type": "code",
   "execution_count": 21,
   "id": "512bff97",
   "metadata": {},
   "outputs": [
    {
     "data": {
      "text/html": [
       "<div>\n",
       "<style scoped>\n",
       "    .dataframe tbody tr th:only-of-type {\n",
       "        vertical-align: middle;\n",
       "    }\n",
       "\n",
       "    .dataframe tbody tr th {\n",
       "        vertical-align: top;\n",
       "    }\n",
       "\n",
       "    .dataframe thead th {\n",
       "        text-align: right;\n",
       "    }\n",
       "</style>\n",
       "<table border=\"1\" class=\"dataframe\">\n",
       "  <thead>\n",
       "    <tr style=\"text-align: right;\">\n",
       "      <th></th>\n",
       "      <th>Hotel_Address</th>\n",
       "      <th>Additional_Number_of_Scoring</th>\n",
       "      <th>Review_Date</th>\n",
       "      <th>Average_Score</th>\n",
       "      <th>Hotel_Name</th>\n",
       "      <th>Reviewer_Nationality</th>\n",
       "      <th>Negative_Review</th>\n",
       "      <th>Review_Total_Negative_Word_Counts</th>\n",
       "      <th>Total_Number_of_Reviews</th>\n",
       "      <th>Positive_Review</th>\n",
       "      <th>Review_Total_Positive_Word_Counts</th>\n",
       "      <th>Total_Number_of_Reviews_Reviewer_Has_Given</th>\n",
       "      <th>Reviewer_Score</th>\n",
       "      <th>Tags</th>\n",
       "      <th>days_since_review</th>\n",
       "      <th>lat</th>\n",
       "      <th>lng</th>\n",
       "    </tr>\n",
       "  </thead>\n",
       "  <tbody>\n",
       "  </tbody>\n",
       "</table>\n",
       "</div>"
      ],
      "text/plain": [
       "Empty DataFrame\n",
       "Columns: [Hotel_Address, Additional_Number_of_Scoring, Review_Date, Average_Score, Hotel_Name, Reviewer_Nationality, Negative_Review, Review_Total_Negative_Word_Counts, Total_Number_of_Reviews, Positive_Review, Review_Total_Positive_Word_Counts, Total_Number_of_Reviews_Reviewer_Has_Given, Reviewer_Score, Tags, days_since_review, lat, lng]\n",
       "Index: []"
      ]
     },
     "execution_count": 21,
     "metadata": {},
     "output_type": "execute_result"
    }
   ],
   "source": [
    "hotel[hotel['Negative_Review'] == \"No Negative\"]"
   ]
  },
  {
   "cell_type": "code",
   "execution_count": 16,
   "id": "25d08ba2",
   "metadata": {},
   "outputs": [
    {
     "data": {
      "text/plain": [
       "35946"
      ]
     },
     "execution_count": 16,
     "metadata": {},
     "output_type": "execute_result"
    }
   ],
   "source": [
    "len(hotel[hotel[\"Positive_Review\"] == \"No Positive\"])"
   ]
  },
  {
   "cell_type": "code",
   "execution_count": 22,
   "id": "722bc21a",
   "metadata": {},
   "outputs": [],
   "source": [
    "hotel.loc[hotel['Positive_Review'] == 'No Positive', 'Positive_Review'] = None"
   ]
  },
  {
   "cell_type": "code",
   "execution_count": 25,
   "id": "0797abcb",
   "metadata": {},
   "outputs": [
    {
     "data": {
      "text/html": [
       "<div>\n",
       "<style scoped>\n",
       "    .dataframe tbody tr th:only-of-type {\n",
       "        vertical-align: middle;\n",
       "    }\n",
       "\n",
       "    .dataframe tbody tr th {\n",
       "        vertical-align: top;\n",
       "    }\n",
       "\n",
       "    .dataframe thead th {\n",
       "        text-align: right;\n",
       "    }\n",
       "</style>\n",
       "<table border=\"1\" class=\"dataframe\">\n",
       "  <thead>\n",
       "    <tr style=\"text-align: right;\">\n",
       "      <th></th>\n",
       "      <th>Hotel_Address</th>\n",
       "      <th>Additional_Number_of_Scoring</th>\n",
       "      <th>Review_Date</th>\n",
       "      <th>Average_Score</th>\n",
       "      <th>Hotel_Name</th>\n",
       "      <th>Reviewer_Nationality</th>\n",
       "      <th>Negative_Review</th>\n",
       "      <th>Review_Total_Negative_Word_Counts</th>\n",
       "      <th>Total_Number_of_Reviews</th>\n",
       "      <th>Positive_Review</th>\n",
       "      <th>Review_Total_Positive_Word_Counts</th>\n",
       "      <th>Total_Number_of_Reviews_Reviewer_Has_Given</th>\n",
       "      <th>Reviewer_Score</th>\n",
       "      <th>Tags</th>\n",
       "      <th>days_since_review</th>\n",
       "      <th>lat</th>\n",
       "      <th>lng</th>\n",
       "    </tr>\n",
       "  </thead>\n",
       "  <tbody>\n",
       "  </tbody>\n",
       "</table>\n",
       "</div>"
      ],
      "text/plain": [
       "Empty DataFrame\n",
       "Columns: [Hotel_Address, Additional_Number_of_Scoring, Review_Date, Average_Score, Hotel_Name, Reviewer_Nationality, Negative_Review, Review_Total_Negative_Word_Counts, Total_Number_of_Reviews, Positive_Review, Review_Total_Positive_Word_Counts, Total_Number_of_Reviews_Reviewer_Has_Given, Reviewer_Score, Tags, days_since_review, lat, lng]\n",
       "Index: []"
      ]
     },
     "execution_count": 25,
     "metadata": {},
     "output_type": "execute_result"
    }
   ],
   "source": [
    "hotel[hotel['Positive_Review'] == \"No Positive\"]"
   ]
  },
  {
   "cell_type": "markdown",
   "id": "64d38d31",
   "metadata": {},
   "source": [
    "### Test and see whether is there any other columns has null value"
   ]
  },
  {
   "cell_type": "code",
   "execution_count": 26,
   "id": "b7571123",
   "metadata": {},
   "outputs": [
    {
     "data": {
      "text/plain": [
       "Index(['Negative_Review', 'Positive_Review', 'lat', 'lng'], dtype='object')"
      ]
     },
     "execution_count": 26,
     "metadata": {},
     "output_type": "execute_result"
    }
   ],
   "source": [
    "null_columns = hotel.columns[hotel.isnull().any()]\n",
    "null_columns"
   ]
  },
  {
   "cell_type": "code",
   "execution_count": 27,
   "id": "d299746b",
   "metadata": {},
   "outputs": [
    {
     "name": "stdout",
     "output_type": "stream",
     "text": [
      "具有空值的欄位：\n",
      "['Negative_Review', 'Positive_Review', 'lat', 'lng']\n"
     ]
    }
   ],
   "source": [
    "columns_with_null = hotel.isnull().any()\n",
    "\n",
    "# 輸出具有空值的欄位名稱\n",
    "print(\"具有空值的欄位：\")\n",
    "print(columns_with_null[columns_with_null].index.tolist())"
   ]
  },
  {
   "cell_type": "code",
   "execution_count": 28,
   "id": "38b5652a",
   "metadata": {},
   "outputs": [
    {
     "data": {
      "text/plain": [
       "3265"
      ]
     },
     "execution_count": 28,
     "metadata": {},
     "output_type": "execute_result"
    }
   ],
   "source": [
    "len(hotel[hotel[\"lat\"].isnull()])"
   ]
  },
  {
   "cell_type": "code",
   "execution_count": 29,
   "id": "4d634505",
   "metadata": {},
   "outputs": [
    {
     "data": {
      "text/plain": [
       "3265"
      ]
     },
     "execution_count": 29,
     "metadata": {},
     "output_type": "execute_result"
    }
   ],
   "source": [
    "len(hotel[hotel[\"lng\"].isnull()])"
   ]
  },
  {
   "cell_type": "code",
   "execution_count": 33,
   "id": "eb3364e6",
   "metadata": {},
   "outputs": [],
   "source": [
    "# text = hotel[\"Tags\"][1].replace(\"[\", \"\").replace(\"]\", \"\").replace(\"'\", \"\")\n",
    "# words = text.split(\", \")\n",
    "# import pandas as pd\n",
    "def process_tags(tag):\n",
    "    tag = tag.replace(\"[\", \"\").replace(\"]\", \"\").replace(\"'\", \"\")  # 移除特殊符號\n",
    "    tag_list = tag.split(\", \")  # 利用split()函數分割字符串，形成列表\n",
    "    return tag_list\n",
    "\n",
    "# 新增tag_list欄位\n",
    "hotel['Tags_list'] = hotel['Tags'].apply(lambda x: process_tags(x))"
   ]
  },
  {
   "cell_type": "code",
   "execution_count": null,
   "id": "b7e88081",
   "metadata": {},
   "outputs": [],
   "source": [
    "\n",
    "\n",
    "# 將tag_list列的列表元素展開成新的行\n",
    "exploded_tags = hotel['Tags_list'].explode()\n",
    "\n",
    "# 計算每個元素出現的次數\n",
    "tag_counts = exploded_tags.value_counts()\n",
    "print(tag_counts)\n"
   ]
  },
  {
   "cell_type": "code",
   "execution_count": null,
   "id": "a9ff81e6",
   "metadata": {},
   "outputs": [],
   "source": [
    "import pandas as pd\n",
    "\n",
    "pd.set_option('display.max_rows', None)\n",
    "pd.set_option('display.width', None)"
   ]
  },
  {
   "cell_type": "code",
   "execution_count": null,
   "id": "1258a24c",
   "metadata": {},
   "outputs": [],
   "source": [
    "from wordcloud import WordCloud\n",
    "\n",
    "# Assuming word_counts is your Pandas Series containing words and their counts\n",
    "\n",
    "# Convert the Series to a dictionary for WordCloud\n",
    "wordcloud_dict = tag_counts.to_dict()\n",
    "\n",
    "# Generate the WordCloud object\n",
    "wordcloud = WordCloud(width=800, height=400, background_color='white').generate_from_frequencies(wordcloud_dict)\n",
    "\n",
    "# Display the WordCloud using matplotlib\n",
    "plt.figure(figsize=(10, 8))\n",
    "plt.imshow(wordcloud, interpolation='bilinear')\n",
    "plt.axis('off')  # Remove axis\n",
    "plt.savefig('wordcloud_image.png', dpi=300, bbox_inches='tight')\n",
    "plt.show()"
   ]
  },
  {
   "cell_type": "markdown",
   "id": "6c634570",
   "metadata": {},
   "source": [
    "## Import the country-region matching list"
   ]
  },
  {
   "cell_type": "code",
   "execution_count": 30,
   "id": "31577cdf",
   "metadata": {},
   "outputs": [],
   "source": [
    "region = pd.read_csv(\"region_list.csv\")"
   ]
  },
  {
   "cell_type": "markdown",
   "id": "ec6514e6",
   "metadata": {},
   "source": [
    "## Merge the hotel dataset with region matching list"
   ]
  },
  {
   "cell_type": "code",
   "execution_count": 34,
   "id": "73811188",
   "metadata": {},
   "outputs": [],
   "source": [
    "merged_df = pd.merge(hotel, region, left_on='Reviewer_Nationality', right_on='name', how='left')"
   ]
  },
  {
   "cell_type": "code",
   "execution_count": 36,
   "id": "dc3bef56",
   "metadata": {},
   "outputs": [],
   "source": [
    "merged_df.to_csv(\"hotel_review_newregion.csv\")"
   ]
  },
  {
   "cell_type": "code",
   "execution_count": 35,
   "id": "ccc429f8",
   "metadata": {},
   "outputs": [
    {
     "data": {
      "text/html": [
       "<div>\n",
       "<style scoped>\n",
       "    .dataframe tbody tr th:only-of-type {\n",
       "        vertical-align: middle;\n",
       "    }\n",
       "\n",
       "    .dataframe tbody tr th {\n",
       "        vertical-align: top;\n",
       "    }\n",
       "\n",
       "    .dataframe thead th {\n",
       "        text-align: right;\n",
       "    }\n",
       "</style>\n",
       "<table border=\"1\" class=\"dataframe\">\n",
       "  <thead>\n",
       "    <tr style=\"text-align: right;\">\n",
       "      <th></th>\n",
       "      <th>Hotel_Address</th>\n",
       "      <th>Additional_Number_of_Scoring</th>\n",
       "      <th>Review_Date</th>\n",
       "      <th>Average_Score</th>\n",
       "      <th>Hotel_Name</th>\n",
       "      <th>Reviewer_Nationality</th>\n",
       "      <th>Negative_Review</th>\n",
       "      <th>Review_Total_Negative_Word_Counts</th>\n",
       "      <th>Total_Number_of_Reviews</th>\n",
       "      <th>Positive_Review</th>\n",
       "      <th>...</th>\n",
       "      <th>Total_Number_of_Reviews_Reviewer_Has_Given</th>\n",
       "      <th>Reviewer_Score</th>\n",
       "      <th>Tags</th>\n",
       "      <th>days_since_review</th>\n",
       "      <th>lat</th>\n",
       "      <th>lng</th>\n",
       "      <th>Tags_list</th>\n",
       "      <th>name</th>\n",
       "      <th>region</th>\n",
       "      <th>sub-region</th>\n",
       "    </tr>\n",
       "  </thead>\n",
       "  <tbody>\n",
       "    <tr>\n",
       "      <th>0</th>\n",
       "      <td>s Gravesandestraat 55 Oost 1092 AA Amsterdam N...</td>\n",
       "      <td>194</td>\n",
       "      <td>8/3/2017</td>\n",
       "      <td>7.7</td>\n",
       "      <td>Hotel Arena</td>\n",
       "      <td>Russia</td>\n",
       "      <td>I am so angry that i made this post available ...</td>\n",
       "      <td>397</td>\n",
       "      <td>1403</td>\n",
       "      <td>Only the park outside of the hotel was beautiful</td>\n",
       "      <td>...</td>\n",
       "      <td>7</td>\n",
       "      <td>2.9</td>\n",
       "      <td>[' Leisure trip ', ' Couple ', ' Duplex Double...</td>\n",
       "      <td>0 days</td>\n",
       "      <td>52.360576</td>\n",
       "      <td>4.915968</td>\n",
       "      <td>[ Leisure trip ,  Couple ,  Duplex Double Room...</td>\n",
       "      <td>Russia</td>\n",
       "      <td>Europe</td>\n",
       "      <td>Eastern Europe</td>\n",
       "    </tr>\n",
       "    <tr>\n",
       "      <th>1</th>\n",
       "      <td>s Gravesandestraat 55 Oost 1092 AA Amsterdam N...</td>\n",
       "      <td>194</td>\n",
       "      <td>8/3/2017</td>\n",
       "      <td>7.7</td>\n",
       "      <td>Hotel Arena</td>\n",
       "      <td>Ireland</td>\n",
       "      <td>None</td>\n",
       "      <td>0</td>\n",
       "      <td>1403</td>\n",
       "      <td>No real complaints the hotel was great great l...</td>\n",
       "      <td>...</td>\n",
       "      <td>7</td>\n",
       "      <td>7.5</td>\n",
       "      <td>[' Leisure trip ', ' Couple ', ' Duplex Double...</td>\n",
       "      <td>0 days</td>\n",
       "      <td>52.360576</td>\n",
       "      <td>4.915968</td>\n",
       "      <td>[ Leisure trip ,  Couple ,  Duplex Double Room...</td>\n",
       "      <td>Ireland</td>\n",
       "      <td>Europe</td>\n",
       "      <td>Northern Europe</td>\n",
       "    </tr>\n",
       "    <tr>\n",
       "      <th>2</th>\n",
       "      <td>s Gravesandestraat 55 Oost 1092 AA Amsterdam N...</td>\n",
       "      <td>194</td>\n",
       "      <td>7/31/2017</td>\n",
       "      <td>7.7</td>\n",
       "      <td>Hotel Arena</td>\n",
       "      <td>Australia</td>\n",
       "      <td>Rooms are nice but for elderly a bit difficult...</td>\n",
       "      <td>42</td>\n",
       "      <td>1403</td>\n",
       "      <td>Location was good and staff were ok It is cute...</td>\n",
       "      <td>...</td>\n",
       "      <td>9</td>\n",
       "      <td>7.1</td>\n",
       "      <td>[' Leisure trip ', ' Family with young childre...</td>\n",
       "      <td>3 days</td>\n",
       "      <td>52.360576</td>\n",
       "      <td>4.915968</td>\n",
       "      <td>[ Leisure trip ,  Family with young children ,...</td>\n",
       "      <td>Australia</td>\n",
       "      <td>Oceania</td>\n",
       "      <td>Australia and New Zealand</td>\n",
       "    </tr>\n",
       "    <tr>\n",
       "      <th>3</th>\n",
       "      <td>s Gravesandestraat 55 Oost 1092 AA Amsterdam N...</td>\n",
       "      <td>194</td>\n",
       "      <td>7/31/2017</td>\n",
       "      <td>7.7</td>\n",
       "      <td>Hotel Arena</td>\n",
       "      <td>United Kingdom</td>\n",
       "      <td>My room was dirty and I was afraid to walk bar...</td>\n",
       "      <td>210</td>\n",
       "      <td>1403</td>\n",
       "      <td>Great location in nice surroundings the bar an...</td>\n",
       "      <td>...</td>\n",
       "      <td>1</td>\n",
       "      <td>3.8</td>\n",
       "      <td>[' Leisure trip ', ' Solo traveler ', ' Duplex...</td>\n",
       "      <td>3 days</td>\n",
       "      <td>52.360576</td>\n",
       "      <td>4.915968</td>\n",
       "      <td>[ Leisure trip ,  Solo traveler ,  Duplex Doub...</td>\n",
       "      <td>United Kingdom</td>\n",
       "      <td>Europe</td>\n",
       "      <td>Northern Europe</td>\n",
       "    </tr>\n",
       "    <tr>\n",
       "      <th>4</th>\n",
       "      <td>s Gravesandestraat 55 Oost 1092 AA Amsterdam N...</td>\n",
       "      <td>194</td>\n",
       "      <td>7/24/2017</td>\n",
       "      <td>7.7</td>\n",
       "      <td>Hotel Arena</td>\n",
       "      <td>New Zealand</td>\n",
       "      <td>You When I booked with your company on line yo...</td>\n",
       "      <td>140</td>\n",
       "      <td>1403</td>\n",
       "      <td>Amazing location and building Romantic setting</td>\n",
       "      <td>...</td>\n",
       "      <td>3</td>\n",
       "      <td>6.7</td>\n",
       "      <td>[' Leisure trip ', ' Couple ', ' Suite ', ' St...</td>\n",
       "      <td>10 days</td>\n",
       "      <td>52.360576</td>\n",
       "      <td>4.915968</td>\n",
       "      <td>[ Leisure trip ,  Couple ,  Suite ,  Stayed 2 ...</td>\n",
       "      <td>New Zealand</td>\n",
       "      <td>Oceania</td>\n",
       "      <td>Australia and New Zealand</td>\n",
       "    </tr>\n",
       "  </tbody>\n",
       "</table>\n",
       "<p>5 rows × 21 columns</p>\n",
       "</div>"
      ],
      "text/plain": [
       "                                       Hotel_Address  \\\n",
       "0  s Gravesandestraat 55 Oost 1092 AA Amsterdam N...   \n",
       "1  s Gravesandestraat 55 Oost 1092 AA Amsterdam N...   \n",
       "2  s Gravesandestraat 55 Oost 1092 AA Amsterdam N...   \n",
       "3  s Gravesandestraat 55 Oost 1092 AA Amsterdam N...   \n",
       "4  s Gravesandestraat 55 Oost 1092 AA Amsterdam N...   \n",
       "\n",
       "   Additional_Number_of_Scoring Review_Date  Average_Score   Hotel_Name  \\\n",
       "0                           194    8/3/2017            7.7  Hotel Arena   \n",
       "1                           194    8/3/2017            7.7  Hotel Arena   \n",
       "2                           194   7/31/2017            7.7  Hotel Arena   \n",
       "3                           194   7/31/2017            7.7  Hotel Arena   \n",
       "4                           194   7/24/2017            7.7  Hotel Arena   \n",
       "\n",
       "  Reviewer_Nationality                                    Negative_Review  \\\n",
       "0               Russia  I am so angry that i made this post available ...   \n",
       "1              Ireland                                               None   \n",
       "2            Australia  Rooms are nice but for elderly a bit difficult...   \n",
       "3       United Kingdom  My room was dirty and I was afraid to walk bar...   \n",
       "4          New Zealand  You When I booked with your company on line yo...   \n",
       "\n",
       "   Review_Total_Negative_Word_Counts  Total_Number_of_Reviews  \\\n",
       "0                                397                     1403   \n",
       "1                                  0                     1403   \n",
       "2                                 42                     1403   \n",
       "3                                210                     1403   \n",
       "4                                140                     1403   \n",
       "\n",
       "                                     Positive_Review  ...  \\\n",
       "0   Only the park outside of the hotel was beautiful  ...   \n",
       "1  No real complaints the hotel was great great l...  ...   \n",
       "2  Location was good and staff were ok It is cute...  ...   \n",
       "3  Great location in nice surroundings the bar an...  ...   \n",
       "4     Amazing location and building Romantic setting  ...   \n",
       "\n",
       "   Total_Number_of_Reviews_Reviewer_Has_Given  Reviewer_Score  \\\n",
       "0                                           7             2.9   \n",
       "1                                           7             7.5   \n",
       "2                                           9             7.1   \n",
       "3                                           1             3.8   \n",
       "4                                           3             6.7   \n",
       "\n",
       "                                                Tags days_since_review  \\\n",
       "0  [' Leisure trip ', ' Couple ', ' Duplex Double...            0 days   \n",
       "1  [' Leisure trip ', ' Couple ', ' Duplex Double...            0 days   \n",
       "2  [' Leisure trip ', ' Family with young childre...            3 days   \n",
       "3  [' Leisure trip ', ' Solo traveler ', ' Duplex...            3 days   \n",
       "4  [' Leisure trip ', ' Couple ', ' Suite ', ' St...           10 days   \n",
       "\n",
       "         lat       lng                                          Tags_list  \\\n",
       "0  52.360576  4.915968  [ Leisure trip ,  Couple ,  Duplex Double Room...   \n",
       "1  52.360576  4.915968  [ Leisure trip ,  Couple ,  Duplex Double Room...   \n",
       "2  52.360576  4.915968  [ Leisure trip ,  Family with young children ,...   \n",
       "3  52.360576  4.915968  [ Leisure trip ,  Solo traveler ,  Duplex Doub...   \n",
       "4  52.360576  4.915968  [ Leisure trip ,  Couple ,  Suite ,  Stayed 2 ...   \n",
       "\n",
       "             name   region                 sub-region  \n",
       "0          Russia   Europe             Eastern Europe  \n",
       "1         Ireland   Europe            Northern Europe  \n",
       "2       Australia  Oceania  Australia and New Zealand  \n",
       "3  United Kingdom   Europe            Northern Europe  \n",
       "4     New Zealand  Oceania  Australia and New Zealand  \n",
       "\n",
       "[5 rows x 21 columns]"
      ]
     },
     "execution_count": 35,
     "metadata": {},
     "output_type": "execute_result"
    }
   ],
   "source": [
    "merged_df.head()"
   ]
  }
 ],
 "metadata": {
  "kernelspec": {
   "display_name": "Python 3 (ipykernel)",
   "language": "python",
   "name": "python3"
  },
  "language_info": {
   "codemirror_mode": {
    "name": "ipython",
    "version": 3
   },
   "file_extension": ".py",
   "mimetype": "text/x-python",
   "name": "python",
   "nbconvert_exporter": "python",
   "pygments_lexer": "ipython3",
   "version": "3.11.3"
  }
 },
 "nbformat": 4,
 "nbformat_minor": 5
}
